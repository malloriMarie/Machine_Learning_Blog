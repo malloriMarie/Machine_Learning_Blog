{
 "cells": [
  {
   "cell_type": "markdown",
   "metadata": {},
   "source": [
    "# Classifying Tweets"
   ]
  },
  {
   "cell_type": "markdown",
   "metadata": {},
   "source": [
    "# Data\n"
   ]
  },
  {
   "cell_type": "markdown",
   "metadata": {},
   "source": [
    "<p>This dataset included 10,876 tweets human-tagged as Relevant or Not Relevant. Tweets labeled as \"Relevant\" were about disasters, tweet about miscellaneous topics were tagged as \"Not Relevant\", and some tweets were tagged as \"Can't Decide\" when topic could not be determined.</p>\n",
    "\n",
    "**Features**\n",
    "- _unit_id\n",
    "- _golden\n",
    "- _trusted_judgments\n",
    "- _last_judgment_at\n",
    "- choose_one (used as label)\n",
    "- choose_one_confidence\n",
    "- choose_one_gold\n",
    "- keyword\n",
    "- location\n",
    "- text: (used as data)\n",
    "- tweetid\n",
    "- userid"
   ]
  },
  {
   "cell_type": "markdown",
   "metadata": {},
   "source": [
    "# Let's take a look at the data"
   ]
  },
  {
   "cell_type": "code",
   "execution_count": 1,
   "metadata": {
    "collapsed": true
   },
   "outputs": [],
   "source": [
    "#Import pandas\n",
    "import pandas as pd"
   ]
  },
  {
   "cell_type": "code",
   "execution_count": 10,
   "metadata": {
    "collapsed": false
   },
   "outputs": [
    {
     "data": {
      "text/html": [
       "<div>\n",
       "<table border=\"1\" class=\"dataframe\">\n",
       "  <thead>\n",
       "    <tr style=\"text-align: right;\">\n",
       "      <th></th>\n",
       "      <th>_unit_id</th>\n",
       "      <th>_golden</th>\n",
       "      <th>_unit_state</th>\n",
       "      <th>_trusted_judgments</th>\n",
       "      <th>_last_judgment_at</th>\n",
       "      <th>choose_one</th>\n",
       "      <th>choose_one:confidence</th>\n",
       "      <th>choose_one_gold</th>\n",
       "      <th>keyword</th>\n",
       "      <th>location</th>\n",
       "      <th>text</th>\n",
       "      <th>tweetid</th>\n",
       "      <th>userid</th>\n",
       "    </tr>\n",
       "  </thead>\n",
       "  <tbody>\n",
       "    <tr>\n",
       "      <th>0</th>\n",
       "      <td>778243823</td>\n",
       "      <td>True</td>\n",
       "      <td>golden</td>\n",
       "      <td>156</td>\n",
       "      <td>NaN</td>\n",
       "      <td>Relevant</td>\n",
       "      <td>1.0000</td>\n",
       "      <td>Relevant</td>\n",
       "      <td>NaN</td>\n",
       "      <td>NaN</td>\n",
       "      <td>Just happened a terrible car crash</td>\n",
       "      <td>1</td>\n",
       "      <td>NaN</td>\n",
       "    </tr>\n",
       "    <tr>\n",
       "      <th>1</th>\n",
       "      <td>778243824</td>\n",
       "      <td>True</td>\n",
       "      <td>golden</td>\n",
       "      <td>152</td>\n",
       "      <td>NaN</td>\n",
       "      <td>Relevant</td>\n",
       "      <td>1.0000</td>\n",
       "      <td>Relevant</td>\n",
       "      <td>NaN</td>\n",
       "      <td>NaN</td>\n",
       "      <td>Our Deeds are the Reason of this #earthquake M...</td>\n",
       "      <td>13</td>\n",
       "      <td>NaN</td>\n",
       "    </tr>\n",
       "    <tr>\n",
       "      <th>2</th>\n",
       "      <td>778243825</td>\n",
       "      <td>True</td>\n",
       "      <td>golden</td>\n",
       "      <td>137</td>\n",
       "      <td>NaN</td>\n",
       "      <td>Relevant</td>\n",
       "      <td>1.0000</td>\n",
       "      <td>Relevant</td>\n",
       "      <td>NaN</td>\n",
       "      <td>NaN</td>\n",
       "      <td>Heard about #earthquake is different cities, s...</td>\n",
       "      <td>14</td>\n",
       "      <td>NaN</td>\n",
       "    </tr>\n",
       "    <tr>\n",
       "      <th>3</th>\n",
       "      <td>778243826</td>\n",
       "      <td>True</td>\n",
       "      <td>golden</td>\n",
       "      <td>136</td>\n",
       "      <td>NaN</td>\n",
       "      <td>Relevant</td>\n",
       "      <td>0.9603</td>\n",
       "      <td>Relevant</td>\n",
       "      <td>NaN</td>\n",
       "      <td>NaN</td>\n",
       "      <td>there is a forest fire at spot pond, geese are...</td>\n",
       "      <td>15</td>\n",
       "      <td>NaN</td>\n",
       "    </tr>\n",
       "    <tr>\n",
       "      <th>4</th>\n",
       "      <td>778243827</td>\n",
       "      <td>True</td>\n",
       "      <td>golden</td>\n",
       "      <td>138</td>\n",
       "      <td>NaN</td>\n",
       "      <td>Relevant</td>\n",
       "      <td>1.0000</td>\n",
       "      <td>Relevant</td>\n",
       "      <td>NaN</td>\n",
       "      <td>NaN</td>\n",
       "      <td>Forest fire near La Ronge Sask. Canada</td>\n",
       "      <td>16</td>\n",
       "      <td>NaN</td>\n",
       "    </tr>\n",
       "  </tbody>\n",
       "</table>\n",
       "</div>"
      ],
      "text/plain": [
       "    _unit_id _golden _unit_state  _trusted_judgments _last_judgment_at  \\\n",
       "0  778243823    True      golden                 156               NaN   \n",
       "1  778243824    True      golden                 152               NaN   \n",
       "2  778243825    True      golden                 137               NaN   \n",
       "3  778243826    True      golden                 136               NaN   \n",
       "4  778243827    True      golden                 138               NaN   \n",
       "\n",
       "  choose_one  choose_one:confidence choose_one_gold keyword location  \\\n",
       "0   Relevant                 1.0000        Relevant     NaN      NaN   \n",
       "1   Relevant                 1.0000        Relevant     NaN      NaN   \n",
       "2   Relevant                 1.0000        Relevant     NaN      NaN   \n",
       "3   Relevant                 0.9603        Relevant     NaN      NaN   \n",
       "4   Relevant                 1.0000        Relevant     NaN      NaN   \n",
       "\n",
       "                                                text  tweetid  userid  \n",
       "0                 Just happened a terrible car crash        1     NaN  \n",
       "1  Our Deeds are the Reason of this #earthquake M...       13     NaN  \n",
       "2  Heard about #earthquake is different cities, s...       14     NaN  \n",
       "3  there is a forest fire at spot pond, geese are...       15     NaN  \n",
       "4             Forest fire near La Ronge Sask. Canada       16     NaN  "
      ]
     },
     "execution_count": 10,
     "metadata": {},
     "output_type": "execute_result"
    }
   ],
   "source": [
    "#Read in data using pandas\n",
    "twitter =  pd.read_csv('../Final_Project_1/Final_Project_1/data/disaster-tweets-DFE.csv')\n",
    "\n",
    "#Display first 5 entries\n",
    "twitter.head()"
   ]
  },
  {
   "cell_type": "markdown",
   "metadata": {},
   "source": [
    "#### Look at a summary of the features"
   ]
  },
  {
   "cell_type": "code",
   "execution_count": 76,
   "metadata": {
    "collapsed": false
   },
   "outputs": [
    {
     "name": "stdout",
     "output_type": "stream",
     "text": [
      "<class 'pandas.core.frame.DataFrame'>\n",
      "Int64Index: 10876 entries, 0 to 10875\n",
      "Data columns (total 13 columns):\n",
      "_unit_id                 10876 non-null int64\n",
      "_golden                  10876 non-null bool\n",
      "_unit_state              10876 non-null object\n",
      "_trusted_judgments       10876 non-null int64\n",
      "_last_judgment_at        10792 non-null object\n",
      "choose_one               10876 non-null object\n",
      "choose_one:confidence    10876 non-null float64\n",
      "choose_one_gold          87 non-null object\n",
      "keyword                  10789 non-null object\n",
      "location                 7238 non-null object\n",
      "text                     10876 non-null object\n",
      "tweetid                  10876 non-null int64\n",
      "userid                   10789 non-null float64\n",
      "dtypes: bool(1), float64(2), int64(3), object(7)\n",
      "memory usage: 1.1+ MB\n"
     ]
    }
   ],
   "source": [
    "twitter.info()"
   ]
  },
  {
   "cell_type": "markdown",
   "metadata": {},
   "source": [
    "#### For this project I am only interested in the actual tweets and whether they are tagged as relevant or not relevant."
   ]
  },
  {
   "cell_type": "code",
   "execution_count": 77,
   "metadata": {
    "collapsed": false
   },
   "outputs": [
    {
     "name": "stdout",
     "output_type": "stream",
     "text": [
      "Just happened a terrible car crash\n",
      "----------\n",
      "Relevant\n"
     ]
    }
   ],
   "source": [
    "#Look at the first entry in the text column of twitter dataframe\n",
    "print twitter['text'][0]\n",
    "print \"----------\"\n",
    "print twitter['choose_one'][0]\n",
    "\n",
    "# This tweet has been labeled as being about a disaster"
   ]
  },
  {
   "cell_type": "code",
   "execution_count": 78,
   "metadata": {
    "collapsed": false
   },
   "outputs": [
    {
     "name": "stdout",
     "output_type": "stream",
     "text": [
      "Four hundred wrecked cars (costing $100 apiece) were purchased for the making of this 1986 film - http://t.co/DTdidinQyF\n",
      "----------\n",
      "Not Relevant\n"
     ]
    }
   ],
   "source": [
    "#Look at another entry in the text column of twitter dataframe\n",
    "print twitter['text'][10789]\n",
    "print \"----------\"\n",
    "print twitter['choose_one'][10789]\n",
    "\n",
    "# This tweet has been labeled as not being about a disaster"
   ]
  },
  {
   "cell_type": "markdown",
   "metadata": {},
   "source": [
    "<h3>Let's take a look at the labels</h3>\n",
    "\n",
    "<h4>First we need to import matplotlib to plot the data<h/4>"
   ]
  },
  {
   "cell_type": "code",
   "execution_count": 79,
   "metadata": {
    "collapsed": true
   },
   "outputs": [],
   "source": [
    "import matplotlib.pyplot as plt\n",
    "%matplotlib inline"
   ]
  },
  {
   "cell_type": "code",
   "execution_count": 80,
   "metadata": {
    "collapsed": false
   },
   "outputs": [
    {
     "data": {
      "text/plain": [
       "Not Relevant    6187\n",
       "Relevant        4673\n",
       "Can't Decide      16\n",
       "dtype: int64"
      ]
     },
     "execution_count": 80,
     "metadata": {},
     "output_type": "execute_result"
    }
   ],
   "source": [
    "twitter['choose_one'].value_counts()"
   ]
  },
  {
   "cell_type": "code",
   "execution_count": 81,
   "metadata": {
    "collapsed": false
   },
   "outputs": [
    {
     "data": {
      "image/png": "[encoded data removed]",
      "text/plain": [
       "<matplotlib.figure.Figure at 0x109c17350>"
      ]
     },
     "metadata": {},
     "output_type": "display_data"
    }
   ],
   "source": [
    "label_count = twitter['choose_one'].value_counts().plot(kind='bar');\n",
    "\n",
    "# Hide the right and top spines\n",
    "label_count.spines['right'].set_visible(False)\n",
    "label_count.spines['top'].set_visible(False)\n",
    "\n",
    "# Only show ticks on the left and bottom spines\n",
    "label_count.yaxis.set_ticks_position('left')\n",
    "label_count.xaxis.set_ticks_position('bottom')\n",
    "\n",
    "#Create labels\n",
    "plt.ylabel('Number of Tweets')\n",
    "plt.title('How Many Tweets Fall Under Each Label');"
   ]
  },
  {
   "cell_type": "markdown",
   "metadata": {},
   "source": [
    "<p>The classes or labels are balanced with the exception of the \"Can't Decide\" class. This can skew the results of the classifier by overfitting on these few examples of \"Can't Decide\". Plus we want to predict whether or not a tweet is talking about a disaster, so ambiguous tweets are not helpful. In the next step I will remove all tweets labeled as \"Can't Decide\".</p>"
   ]
  },
  {
   "cell_type": "code",
   "execution_count": 82,
   "metadata": {
    "collapsed": true
   },
   "outputs": [],
   "source": [
    "#If the choose_one column is not equal to \"Can't Decide\" copy the entire row over to the new dataframe - twitter_clean\n",
    "twitter_clean = twitter[twitter['choose_one'] != \"Can't Decide\"]"
   ]
  },
  {
   "cell_type": "markdown",
   "metadata": {},
   "source": [
    "<p>The classifier we will be using does not work with text. Therefore in the next few steps we will be preparing the data for the classifier. The first step is the binarize the labels.</p>"
   ]
  },
  {
   "cell_type": "code",
   "execution_count": 83,
   "metadata": {
    "collapsed": true
   },
   "outputs": [],
   "source": [
    "#Importing numpy\n",
    "import numpy as np"
   ]
  },
  {
   "cell_type": "code",
   "execution_count": 84,
   "metadata": {
    "collapsed": true
   },
   "outputs": [],
   "source": [
    "#Extract labels and data and put in numpy array\n",
    "\n",
    "#Binarize data --> Relevant = 1, Not Relevant = 0\n",
    "y = np.asarray(twitter_clean['choose_one'].apply(lambda x: 1 if x == 'Relevant' else 0))\n",
    "\n",
    "#Enter tweets into numpy array \"as is\". We must do some data cleaning before binarizing the tweets.\n",
    "tweets = np.asarray(twitter_clean['text'])"
   ]
  },
  {
   "cell_type": "code",
   "execution_count": 150,
   "metadata": {
    "collapsed": false
   },
   "outputs": [
    {
     "name": "stdout",
     "output_type": "stream",
     "text": [
      "Just happened a terrible car crash\n",
      "1\n"
     ]
    }
   ],
   "source": [
    "print tweets[0]\n",
    "print y[0] # 1 for Relevant"
   ]
  },
  {
   "cell_type": "markdown",
   "metadata": {},
   "source": [
    "<p>As we all know, tweets are different from the text we may read in a news article or book. People use hashtags, URLs, creative spellings (e.g. r u sleeping), acronyms (e.g. lol) and they add characters or use all caps for emphasis (e.g. looooool, HELP). In order for our classifier to accurately predict the label of a tweet we must normalize our data. Therefore, \"loooool\" and \"LOL\" must become \"lol\" and \"HELP\" must become \"help\". We also need to account for suffixes, so \"flooding\" and \"flooded\" need to become \"flood\". We will do all of this with the help of regular expressions and two libraries: Enchant and NLTK. Enchant provides you with a spell checker and NLTK is one of the most widely used natural language processing libraries.</p>"
   ]
  },
  {
   "cell_type": "markdown",
   "metadata": {},
   "source": [
    "### Remove URLs"
   ]
  },
  {
   "cell_type": "code",
   "execution_count": 86,
   "metadata": {
    "collapsed": true
   },
   "outputs": [],
   "source": [
    "import re"
   ]
  },
  {
   "cell_type": "code",
   "execution_count": 89,
   "metadata": {
    "collapsed": true
   },
   "outputs": [],
   "source": [
    "# function to remove URLs\n",
    "def remove_urls(sentence):\n",
    "    '''\n",
    "    input an array of tweets and get two arrays,\n",
    "    one with tweets without URLs and another with 1's\n",
    "    and 0's to indicate whether a tweet had a URL before cleaning.\n",
    "    1 = had URL, 0 = no URL\n",
    "    '''\n",
    "    has_url = np.zeros(len(sentence)) #array of zeros\n",
    "    \n",
    "    '''iterate thru tweets find variations of url and record\n",
    "    whether tweet had url. Store tokens that don't begin\n",
    "    with http. First remove &amp; characters.\n",
    "    \n",
    "    '''\n",
    "    #copy data from sentence to new array\n",
    "    clean_sent = sentence.copy()\n",
    "    for i, sent in enumerate(sentence):\n",
    "        tweets[i] = re.sub('&amp;', '', sent)\n",
    "        sent_clean = []\n",
    "        for token in re.findall('(https?:\\/\\/)?([\\da-z\\.-\\/\\dA-z]+)', sentence[i]):\n",
    "            if token[0] == 'http://':\n",
    "                has_url[i] = 1\n",
    "            elif token[0] == 'https://':\n",
    "                has_url[i] = 1\n",
    "            elif token[0] == 'https //':\n",
    "                has_url[i] = 1\n",
    "            else:\n",
    "                sent_clean.append(token[0])\n",
    "                sent_clean.append(token[1])\n",
    "            #join tokens together to make sentence again\n",
    "            clean_sent[i] = ' '.join(sent_clean)\n",
    "    return clean_sent, has_url"
   ]
  },
  {
   "cell_type": "code",
   "execution_count": 90,
   "metadata": {
    "collapsed": false
   },
   "outputs": [],
   "source": [
    "tweets_no_url, has_url = remove_urls(tweets)"
   ]
  },
  {
   "cell_type": "markdown",
   "metadata": {},
   "source": [
    "#### Let's see the before and after of a tweet"
   ]
  },
  {
   "cell_type": "code",
   "execution_count": 108,
   "metadata": {
    "collapsed": false
   },
   "outputs": [
    {
     "name": "stdout",
     "output_type": "stream",
     "text": [
      "Wreckage 'Conclusively Confirmed' as From MH370: Malaysia PM: Investigators and the families of those who were... http://t.co/MSsq0sVnBM\n",
      "------------\n",
      " Wreckage  Conclusively  Confirmed  as  From  MH370  Malaysia  PM  Investigators  and  the  families  of  those  who  were...\n"
     ]
    }
   ],
   "source": [
    "#index list backwards\n",
    "print tweets[-97]\n",
    "print \"------------\"\n",
    "print tweets_no_url[-97]"
   ]
  },
  {
   "cell_type": "markdown",
   "metadata": {},
   "source": [
    "### Remove duplicate characters"
   ]
  },
  {
   "cell_type": "code",
   "execution_count": 109,
   "metadata": {
    "collapsed": true
   },
   "outputs": [],
   "source": [
    "import enchant #From PyEnchant"
   ]
  },
  {
   "cell_type": "code",
   "execution_count": 110,
   "metadata": {
    "collapsed": true
   },
   "outputs": [],
   "source": [
    "#Function to remove duplicate vowels, e.g gooooal\n",
    "def remove_duplicates(word_list):\n",
    "    '''\n",
    "    input a list of words and get new list of words\n",
    "    with no duplicate vowels\n",
    "    '''\n",
    "    letters = ['a','e','i','o','u']\n",
    "    d = enchant.Dict(\"en_US\")\n",
    "    new_list = []\n",
    "    \n",
    "    for word in word_list:\n",
    "        #check if word is spelled correctly and append to list\n",
    "        if d.check(word):\n",
    "            new_list.append(word)\n",
    "        #if word not spelled correctly apply regex\n",
    "        else:\n",
    "            for i in xrange(len(letters)):\n",
    "                word = re.sub(letters[i]+'+', letters[i], word)\n",
    "            new_list.append(word)\n",
    "    return new_list"
   ]
  },
  {
   "cell_type": "code",
   "execution_count": 111,
   "metadata": {
    "collapsed": true
   },
   "outputs": [],
   "source": [
    "#Import NLTK tokenizer\n",
    "from nltk.tokenize.casual import TweetTokenizer\n",
    "\n",
    "#Twitter tokenizer, removes handles (@), converts characters to lowercase, reduce length\n",
    "#of duplicate letters. For example, if you have duplicate letters -> gooooal -> goooal\n",
    "tweet_tokenizer = TweetTokenizer(preserve_case=False, strip_handles=True, reduce_len=True)"
   ]
  },
  {
   "cell_type": "code",
   "execution_count": 112,
   "metadata": {
    "collapsed": false
   },
   "outputs": [],
   "source": [
    "tweet_tokens = tweets_no_url.copy()\n",
    "\n",
    "for i, tweet in enumerate(tweets_no_url):\n",
    "    #iterates through tweets and uses NLTK tweet tokenizer to \n",
    "    #tokenize sentences. Also converts all characters to lowercase\n",
    "    #then passes list of words to function.\n",
    "    tweet_tokens[i] = remove_duplicates(tweet_tokenizer.tokenize(tweet))"
   ]
  },
  {
   "cell_type": "markdown",
   "metadata": {},
   "source": [
    "#### Before and after"
   ]
  },
  {
   "cell_type": "code",
   "execution_count": 113,
   "metadata": {
    "collapsed": false
   },
   "outputs": [
    {
     "name": "stdout",
     "output_type": "stream",
     "text": [
      " What  a  goooooooaaaaaal\n",
      "------------\n",
      "[u'what', u'a', u'goal']\n"
     ]
    }
   ],
   "source": [
    "print tweets_no_url[28]\n",
    "print \"------------\"\n",
    "print tweet_tokens[28]"
   ]
  },
  {
   "cell_type": "markdown",
   "metadata": {},
   "source": [
    "### Remove punctuations and suffixes"
   ]
  },
  {
   "cell_type": "code",
   "execution_count": 114,
   "metadata": {
    "collapsed": true
   },
   "outputs": [],
   "source": [
    "from nltk.stem.snowball import SnowballStemmer"
   ]
  },
  {
   "cell_type": "code",
   "execution_count": 115,
   "metadata": {
    "collapsed": true
   },
   "outputs": [],
   "source": [
    "#Stem word tokens and remove punctuation\n",
    "snow_stemmer = SnowballStemmer(\"english\")\n",
    "stemmed_tweets = tweet_tokens.copy()\n",
    "\n",
    "#Iterate through list of tweets\n",
    "for i, lst in enumerate(stemmed_tweets):\n",
    "    new_lst = []\n",
    "    #Iterate through list of words\n",
    "    for word in lst:\n",
    "        #if word is not a punctuation\n",
    "        #add to new_lst\n",
    "        if word not in ['.','!','...','?',\"'\"]:\n",
    "            new_word = snow_stemmer.stem(word)\n",
    "            new_lst.append(new_word)\n",
    "    stemmed_tweets[i] = new_lst"
   ]
  },
  {
   "cell_type": "markdown",
   "metadata": {},
   "source": [
    "#### Before and after"
   ]
  },
  {
   "cell_type": "code",
   "execution_count": 118,
   "metadata": {
    "collapsed": false
   },
   "outputs": [
    {
     "name": "stdout",
     "output_type": "stream",
     "text": [
      "[u'flood', u'disaster', u'heavy', u'rain', u'causes', u'flash', u'flooding', u'of', u'streets', u'in', u'manitou', u'colorado', u'springs', u'areas']\n",
      "------------\n",
      "[u'flood', u'disast', u'heavi', u'rain', u'caus', u'flash', u'flood', u'of', u'street', u'in', u'manitou', u'colorado', u'spring', u'area']\n"
     ]
    }
   ],
   "source": [
    "print tweet_tokens[10]\n",
    "print \"------------\"\n",
    "print stemmed_tweets[10]\n",
    "\n",
    "#Stemmer isn't perfect, but all words will be in the same format. This will be beneficial for binarizing the tweets."
   ]
  },
  {
   "cell_type": "markdown",
   "metadata": {},
   "source": [
    "### Binarize the tweets"
   ]
  },
  {
   "cell_type": "code",
   "execution_count": 119,
   "metadata": {
    "collapsed": true
   },
   "outputs": [],
   "source": [
    "#Make list of words sentences again for vectorizer\n",
    "\n",
    "stemmed_list =[]\n",
    "for lst in stemmed_tweets:\n",
    "    n_list = ' '.join(lst)\n",
    "    stemmed_list.append(n_list)"
   ]
  },
  {
   "cell_type": "code",
   "execution_count": 120,
   "metadata": {
    "collapsed": true
   },
   "outputs": [],
   "source": [
    "#Import CountVectorizer for binarization of tweets\n",
    "from sklearn.feature_extraction.text import CountVectorizer\n",
    "\n",
    "#create CountVectorizer object\n",
    "#Removes stop words (e.g the, a, and) which are common words with high frequency that contribute no meaning.\n",
    "#Analyzer determines whether feature will be treated as a word or ngrams\n",
    "#max_features only keeps top 5000 most frequent features\n",
    "feat_vectorizer = CountVectorizer(stop_words='english', analyzer='word', max_features=5000)"
   ]
  },
  {
   "cell_type": "code",
   "execution_count": 121,
   "metadata": {
    "collapsed": true
   },
   "outputs": [],
   "source": [
    "vectorized_tweets = feat_vectorizer.fit_transform(stemmed_list)"
   ]
  },
  {
   "cell_type": "markdown",
   "metadata": {},
   "source": [
    "#### Creating the feature matrix"
   ]
  },
  {
   "cell_type": "code",
   "execution_count": 122,
   "metadata": {
    "collapsed": true
   },
   "outputs": [],
   "source": [
    "#Concatenate the has_url array with the binarized tweets sparse matrix\n",
    "\n",
    "#reshape has_url to add to feature vector matrix\n",
    "has_url = has_url.reshape(-1,1)\n",
    "\n",
    "#Convert sparse matrix (needed for concatenation) and concatenate to has_url\n",
    "X = np.concatenate((vectorized_tweets.todense(), has_url), axis=1)"
   ]
  },
  {
   "cell_type": "code",
   "execution_count": 124,
   "metadata": {
    "collapsed": false
   },
   "outputs": [],
   "source": [
    "#Get feature names and add has_url to feature names\n",
    "#This will come in handy when looking at the most important features\n",
    "\n",
    "feature_names = np.asarray(feat_vectorizer.get_feature_names()).reshape(5000, 1)\n",
    "feature_names = np.concatenate((feature_names, np.asarray([[u'has_url']])), axis=0)"
   ]
  },
  {
   "cell_type": "markdown",
   "metadata": {},
   "source": [
    "### It's machine learning time!"
   ]
  },
  {
   "cell_type": "code",
   "execution_count": 126,
   "metadata": {
    "collapsed": true
   },
   "outputs": [],
   "source": [
    "'''\n",
    "Before shoving our data into a classifier, we must randomly sample the data into training and test data.\n",
    "We can do this by using sci-kit learn's train_test_split function.\n",
    "'''\n",
    "\n",
    "from sklearn.cross_validation import train_test_split\n",
    "\n",
    "#Randomly splits data -> default 80% goes to training dataset and 20% to the test dataset\n",
    "X_train, X_test, y_train, y_test = train_test_split(X, y)"
   ]
  },
  {
   "cell_type": "code",
   "execution_count": 127,
   "metadata": {
    "collapsed": false
   },
   "outputs": [
    {
     "data": {
      "text/plain": [
       "RandomForestClassifier(bootstrap=True, class_weight=None, criterion='gini',\n",
       "            max_depth=None, max_features='auto', max_leaf_nodes=None,\n",
       "            min_samples_leaf=1, min_samples_split=2,\n",
       "            min_weight_fraction_leaf=0.0, n_estimators=10, n_jobs=1,\n",
       "            oob_score=False, random_state=None, verbose=0,\n",
       "            warm_start=False)"
      ]
     },
     "execution_count": 127,
     "metadata": {},
     "output_type": "execute_result"
    }
   ],
   "source": [
    "'''\n",
    "Before we get to predicting labels, let's do a quick sanity check. You can use Random Forest to check\n",
    "which features have the most predictive power. This step can be consider as exploratory\n",
    "data analysis.\n",
    "'''\n",
    "\n",
    "#Import Random Forest classifier and fit the model to our training data\n",
    "from sklearn.ensemble import RandomForestClassifier\n",
    "\n",
    "rf = RandomForestClassifier()\n",
    "rf.fit(X_train, y_train)"
   ]
  },
  {
   "cell_type": "markdown",
   "metadata": {},
   "source": [
    "#### *Results will vary because data is randomly split into training and test sets"
   ]
  },
  {
   "cell_type": "code",
   "execution_count": 129,
   "metadata": {
    "collapsed": false
   },
   "outputs": [
    {
     "name": "stdout",
     "output_type": "stream",
     "text": [
      "[[[u'has_url']]\n",
      "\n",
      " [[u'hiroshima']]\n",
      "\n",
      " [[u'california']]\n",
      "\n",
      " [[u'storm']]\n",
      "\n",
      " [[u'kill']]\n",
      "\n",
      " [[u'sever']]\n",
      "\n",
      " [[u'build']]\n",
      "\n",
      " [[u'train']]\n",
      "\n",
      " [[u'evacu']]\n",
      "\n",
      " [[u'bomb']]]\n"
     ]
    }
   ],
   "source": [
    "#Check which features (words) are most important\n",
    "indices_max = rf.feature_importances_.argsort()[-10:][::-1] #return indices for top 10 features\n",
    "top_feat = feature_names[indices_max.reshape(10,1)] #use indices to pull feature names\n",
    "print top_feat"
   ]
  },
  {
   "cell_type": "markdown",
   "metadata": {},
   "source": [
    "## Let's predict labels using Logistic Regression"
   ]
  },
  {
   "cell_type": "code",
   "execution_count": 139,
   "metadata": {
    "collapsed": false
   },
   "outputs": [
    {
     "data": {
      "text/plain": [
       "LogisticRegression(C=1.0, class_weight=None, dual=False, fit_intercept=True,\n",
       "          intercept_scaling=1, max_iter=100, multi_class='ovr', n_jobs=1,\n",
       "          penalty='l2', random_state=None, solver='liblinear', tol=0.0001,\n",
       "          verbose=0, warm_start=False)"
      ]
     },
     "execution_count": 139,
     "metadata": {},
     "output_type": "execute_result"
    }
   ],
   "source": [
    "#Import classifier\n",
    "from sklearn.linear_model import LogisticRegression\n",
    "\n",
    "#Fit model\n",
    "lr = LogisticRegression()\n",
    "lr.fit(X_train, y_train)"
   ]
  },
  {
   "cell_type": "code",
   "execution_count": 140,
   "metadata": {
    "collapsed": true
   },
   "outputs": [],
   "source": [
    "#Predict labels and probabilities\n",
    "lr_predict = lr.predict(X_test)\n",
    "lr_predict_prob = lr.predict_proba(X_test) #used for ROC curve"
   ]
  },
  {
   "cell_type": "markdown",
   "metadata": {},
   "source": [
    "### Let's see how our model performed with a few evaluation metrics"
   ]
  },
  {
   "cell_type": "code",
   "execution_count": 142,
   "metadata": {
    "collapsed": false
   },
   "outputs": [
    {
     "name": "stdout",
     "output_type": "stream",
     "text": [
      "\n"
     ]
    }
   ],
   "source": [
    "from sklearn import cross_validation\n",
    "from sklearn.metrics import f1_score,roc_curve, confusion_matrix, auc"
   ]
  },
  {
   "cell_type": "code",
   "execution_count": 143,
   "metadata": {
    "collapsed": false
   },
   "outputs": [
    {
     "name": "stdout",
     "output_type": "stream",
     "text": [
      "Accuracy:  0.608863502659\n"
     ]
    }
   ],
   "source": [
    "#Use cross_validation to sample our data 10 times and test our classifier with the 10 samples\n",
    "#then take the mean of the accuracy scores.\n",
    "print 'Accuracy: ', np.mean(cross_validation.cross_val_score(lr, X, y, cv=10))"
   ]
  },
  {
   "cell_type": "markdown",
   "metadata": {},
   "source": [
    "<p>\n",
    "\n",
    "F1 score tends to be a better metric for model performance because accuracy only take into account the correction predictions. The F1 score takes into account precision and recall. \n",
    "\n",
    "<ul>\n",
    "    <li> Precision is the number true positives (tweets you labeled as relevant that were relevant) divided by the number of true positives and false positives (tweets you labeled as relevant, but were not relevant).</li>\n",
    "    \n",
    "    <li> Recall is the number of true positives over the number of true positive and false negatives (tweets you labeled as not relevant, but they were relevant.)</li>\n",
    "    \n",
    "</ul>\n",
    "\n",
    "</p>"
   ]
  },
  {
   "cell_type": "code",
   "execution_count": 144,
   "metadata": {
    "collapsed": false
   },
   "outputs": [
    {
     "name": "stdout",
     "output_type": "stream",
     "text": [
      "F_1_score =  0.744584837545\n"
     ]
    }
   ],
   "source": [
    "print 'F_1_score = ', f1_score(y_test, lr_predict)"
   ]
  },
  {
   "cell_type": "markdown",
   "metadata": {},
   "source": [
    "We can further test our true positive and false positive rates by plotting the ROC curve. The more area under the curve the better the model is performing."
   ]
  },
  {
   "cell_type": "code",
   "execution_count": 145,
   "metadata": {
    "collapsed": false
   },
   "outputs": [
    {
     "data": {
      "image/png": "[encoded data removed]",
      "text/plain": [
       "<matplotlib.figure.Figure at 0x124c6c9d0>"
      ]
     },
     "metadata": {},
     "output_type": "display_data"
    }
   ],
   "source": [
    "#ROC calculations\n",
    "fpr, tpr, thresholds = roc_curve(y_test, lr_predict_prob[:,1])\n",
    "\n",
    "plt.plot(fpr, tpr,label='ROC - 1')\n",
    "plt.plot([0, 1], [0, 1], 'k--')\n",
    "plt.xlim([0.0, 1.0])\n",
    "plt.ylim([0.0, 1.05])\n",
    "plt.xlabel('False positive rate')\n",
    "plt.ylabel('True positive rate')\n",
    "plt.title('ROC curve')\n",
    "plt.legend(loc=[0.65,0.05])\n",
    "plt.show()"
   ]
  },
  {
   "cell_type": "markdown",
   "metadata": {},
   "source": [
    "We can also look at the confusion matrix"
   ]
  },
  {
   "cell_type": "code",
   "execution_count": 148,
   "metadata": {
    "collapsed": false
   },
   "outputs": [
    {
     "name": "stdout",
     "output_type": "stream",
     "text": [
      "[[1324  217]\n",
      " [ 349  825]]\n"
     ]
    },
    {
     "data": {
      "image/png": "[encoded data removed]",
      "text/plain": [
       "<matplotlib.figure.Figure at 0x125c8d550>"
      ]
     },
     "metadata": {},
     "output_type": "display_data"
    }
   ],
   "source": [
    "cm = confusion_matrix(y_test, lr_predict)\n",
    "print cm\n",
    "\n",
    "#From sklearn example\n",
    "plt.imshow(cm, interpolation='nearest', cmap=plt.cm.Blues);\n",
    "plt.colorbar();\n",
    "plt.ylabel('True label');\n",
    "plt.xlabel('Predicted label');"
   ]
  },
  {
   "cell_type": "markdown",
   "metadata": {},
   "source": [
    "###### Although machine learning is the coolest part of data science, your classifier is nothing without good data cleaning and feature engineering. So make sure you spend a lot of time performing EDA, so that you know how to \"massage\" your data and get the most out of it."
   ]
  }
 ],
 "metadata": {
  "kernelspec": {
   "display_name": "Python 2",
   "language": "python",
   "name": "python2"
  },
  "language_info": {
   "codemirror_mode": {
    "name": "ipython",
    "version": 2
   },
   "file_extension": ".py",
   "mimetype": "text/x-python",
   "name": "python",
   "nbconvert_exporter": "python",
   "pygments_lexer": "ipython2",
   "version": "2.7.11"
  }
 },
 "nbformat": 4,
 "nbformat_minor": 0
}
